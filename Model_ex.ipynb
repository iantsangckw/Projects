{
 "cells": [
  {
   "cell_type": "code",
   "execution_count": 1,
   "id": "070a6cbe",
   "metadata": {},
   "outputs": [],
   "source": [
    "import pandas as pd\n",
    "import biogeme.database as db\n",
    "import biogeme.biogeme as bio\n",
    "from biogeme import models\n",
    "from biogeme.expressions import Beta"
   ]
  },
  {
   "cell_type": "code",
   "execution_count": 2,
   "id": "4282b68d",
   "metadata": {},
   "outputs": [],
   "source": [
    "# Read the data\n",
    "df = pd.read_csv('data_example.dat', sep='\\t')\n",
    "database = db.Database('data_example', df)"
   ]
  },
  {
   "cell_type": "code",
   "execution_count": 3,
   "id": "d7692cf5",
   "metadata": {},
   "outputs": [],
   "source": [
    "# The following statement allows you to use the names of the\n",
    "# variable as Python variable.\n",
    "globals().update(database.variables)"
   ]
  },
  {
   "cell_type": "code",
   "execution_count": 4,
   "id": "83037319",
   "metadata": {},
   "outputs": [],
   "source": [
    "# Removing some observations\n",
    "#exclude = (Individual >= 250) > 0\n",
    "#database.remove(exclude)"
   ]
  },
  {
   "cell_type": "code",
   "execution_count": 5,
   "id": "e3469917",
   "metadata": {},
   "outputs": [],
   "source": [
    "# Parameters to be estimated\n",
    "ASC_CAR = Beta('ASC_CAR', 0, None, None, 1)\n",
    "ASC_PT = Beta('ASC_PT', 0, None, None, 0)\n",
    "B_TT = Beta('B_TT', 0, None, None, 0)\n",
    "B_kids = Beta('B_kids', 0, None, None, 0)"
   ]
  },
  {
   "cell_type": "code",
   "execution_count": 6,
   "id": "abcaf67f",
   "metadata": {},
   "outputs": [],
   "source": [
    "# Definition of new variables\n",
    "# Car_travel_time_h = Car_travel_time_h / 60\n",
    "# PT_travel_time_h = PT_travel_time_h / 60"
   ]
  },
  {
   "cell_type": "code",
   "execution_count": 7,
   "id": "ecc94e96",
   "metadata": {},
   "outputs": [],
   "source": [
    "# Definition of the utility functions\n",
    "V0 = ASC_PT  +  B_TT * PT_travel_time\n",
    "V1 = ASC_CAR +  B_TT * Car_travel_time + B_kids * Children_u16"
   ]
  },
  {
   "cell_type": "code",
   "execution_count": 8,
   "id": "c2cf5bdd",
   "metadata": {},
   "outputs": [],
   "source": [
    "# Associate utility functions with the numbering of alternatives\n",
    "V = {0: V0, 1: V1}"
   ]
  },
  {
   "cell_type": "code",
   "execution_count": 9,
   "id": "88e430b9",
   "metadata": {},
   "outputs": [],
   "source": [
    "# Associate the availability conditions with the alternatives\n",
    "Av_PT  = 1\n",
    "Av_CAR = 1\n",
    "\n",
    "av = {0: Av_PT, 1: Av_CAR}"
   ]
  },
  {
   "cell_type": "code",
   "execution_count": 10,
   "id": "6361e1ca",
   "metadata": {},
   "outputs": [
    {
     "name": "stdout",
     "output_type": "stream",
     "text": [
      "[03:11:10] < Warning >   Cannot read file __Modelfile.iter. Statement is ignored.\n"
     ]
    }
   ],
   "source": [
    "# Definition of the model. This is the contribution of each\n",
    "# observation to the log likelihood function.\n",
    "logprob = models.loglogit(V, av, Chosen_alternative)\n",
    "\n",
    "# Create the Biogeme object\n",
    "biogeme = bio.BIOGEME(database, logprob)\n",
    "biogeme.modelName = 'Modelfile'\n",
    "\n",
    "# Calculate the null log likelihood for reporting.\n",
    "biogeme.calculateNullLoglikelihood(av)\n",
    "\n",
    "# Estimate the parameters\n",
    "results = biogeme.estimate()"
   ]
  },
  {
   "cell_type": "code",
   "execution_count": 11,
   "id": "13f7b12c",
   "metadata": {
    "scrolled": true
   },
   "outputs": [
    {
     "name": "stdout",
     "output_type": "stream",
     "text": [
      "           Value  Rob. Std err  Rob. t-test  Rob. p-value\n",
      "ASC_PT  3.976070      0.547799     7.258267  3.921308e-13\n",
      "B_TT   -0.171630      0.019489    -8.806659  0.000000e+00\n",
      "B_kids  0.008001      0.390103     0.020509  9.836375e-01\n"
     ]
    }
   ],
   "source": [
    "# Get the results in a pandas table\n",
    "pandasResults = results.getEstimatedParameters()\n",
    "print(pandasResults)"
   ]
  },
  {
   "cell_type": "code",
   "execution_count": null,
   "id": "1f328cb9",
   "metadata": {},
   "outputs": [],
   "source": []
  },
  {
   "cell_type": "code",
   "execution_count": null,
   "id": "f92e2c1e",
   "metadata": {},
   "outputs": [],
   "source": []
  }
 ],
 "metadata": {
  "kernelspec": {
   "display_name": "Python 3",
   "language": "python",
   "name": "python3"
  },
  "language_info": {
   "codemirror_mode": {
    "name": "ipython",
    "version": 3
   },
   "file_extension": ".py",
   "mimetype": "text/x-python",
   "name": "python",
   "nbconvert_exporter": "python",
   "pygments_lexer": "ipython3",
   "version": "3.8.8"
  }
 },
 "nbformat": 4,
 "nbformat_minor": 5
}
