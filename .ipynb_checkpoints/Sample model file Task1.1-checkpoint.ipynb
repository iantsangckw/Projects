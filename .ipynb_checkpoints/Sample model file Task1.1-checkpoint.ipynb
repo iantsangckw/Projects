{
 "cells": [
  {
   "cell_type": "code",
   "execution_count": 1,
   "id": "7b42cbf2",
   "metadata": {
    "scrolled": true
   },
   "outputs": [],
   "source": [
    "import pandas as pd\n",
    "import biogeme.database as db\n",
    "import biogeme.biogeme as bio\n",
    "from biogeme import models\n",
    "from biogeme.expressions import Beta"
   ]
  },
  {
   "cell_type": "code",
   "execution_count": 2,
   "id": "0a281735",
   "metadata": {},
   "outputs": [],
   "source": [
    "# Read the data\n",
    "# MAke sure that this code file is in the same folder as your data file.\n",
    "df = pd.read_csv('model_estimation_data.dat', sep='\\t')\n",
    "database = db.Database('model_estimation_data', df)"
   ]
  },
  {
   "cell_type": "code",
   "execution_count": 3,
   "id": "dd96b19c",
   "metadata": {},
   "outputs": [],
   "source": [
    "# The following statement allows you to use the names of the variable as Python variable.\n",
    "globals().update(database.variables)"
   ]
  },
  {
   "cell_type": "code",
   "execution_count": 4,
   "id": "332f6109",
   "metadata": {
    "scrolled": false
   },
   "outputs": [],
   "source": [
    "# Parameters to be estimated\n",
    "ASC_Bus    = Beta('ASC_Bus',0,None,None,0)\n",
    "ASC_Bike   = Beta('ASC_Bike',0,None,None,1)\n",
    "ASC_Car    = Beta('ASC_Car',0,None,None,0)\n",
    "\n",
    "# Note that in above case, the parameter ASC_Bike is not estimated (as specified by the 1 in the fifth argument on \n",
    "# the corresponding line), and its value is fixed to 0. Read: https://transp-or.epfl.ch/documents/technicalReports/Bier20.pdf\n",
    "\n",
    "# Similarly now, declare parameters for travel time, \"Beta_TT\" and travel cost, \"Beta_TC\" below:\n",
    "Beta_TT    = Beta('Beta_TT', 0, None, None, 0)\n",
    "Beta_Cost  = Beta('Beta_Cost', 0, None, None, 0)"
   ]
  },
  {
   "cell_type": "code",
   "execution_count": 5,
   "id": "b0811c9e",
   "metadata": {},
   "outputs": [],
   "source": [
    "# Definition of new variables\n",
    "tot_cost_car = car_Cost + car_PCost\n",
    "\n",
    "# Similarly now, define new variables for total time for car and total time for bus\n",
    "tot_time_car = car_TT + car_PT\n",
    "tot_time_bus = bus_IVT + bus_TA + bus_WT"
   ]
  },
  {
   "cell_type": "code",
   "execution_count": 6,
   "id": "c43c438d",
   "metadata": {},
   "outputs": [],
   "source": [
    "# Definition of the utility functions (provided for V1-Bus, define yourself for Bike and Car)\n",
    "V1    =  ASC_Bus + Beta_TT * tot_time_bus  + Beta_Cost * bus_Cost\n",
    "V2    =  ASC_Bike + Beta_TT * BS_TT + Beta_Cost * BS_Cost\n",
    "V3    =  ASC_Car + Beta_TT * tot_time_car + Beta_Cost * tot_cost_car\n",
    "\n",
    "# Associate utility functions with the numbering of alternatives\n",
    "V = {1: V1, 2: V2, 3: V3}"
   ]
  },
  {
   "cell_type": "code",
   "execution_count": 7,
   "id": "fe399070",
   "metadata": {},
   "outputs": [],
   "source": [
    "# Associate the availability conditions with the alternatives\n",
    "Bus_AV = 1\n",
    "Bike_AV = 1\n",
    "Car_AV = 1\n",
    "\n",
    "av = {1: Bus_AV, 2: Bike_AV, 3: Car_AV}"
   ]
  },
  {
   "cell_type": "code",
   "execution_count": 8,
   "id": "8b45ff31",
   "metadata": {},
   "outputs": [],
   "source": [
    "# Definition of the model. This is the contribution of each observation to the log likelihood function.\n",
    "logprob = models.loglogit(V, av, Choice)\n",
    "\n",
    "# Create the Biogeme object\n",
    "biogeme = bio.BIOGEME(database, logprob)\n",
    "biogeme.modelName = 'Model_1'  \n",
    "\n",
    "# Calculate the null log likelihood for reporting.\n",
    "biogeme.calculateNullLoglikelihood(av)\n",
    "\n",
    "# Command added to avoid any problem with the reported initial loglikelihood. When True, the current iterate is saved after each iteration, in a file named __[modelName].iter\n",
    "# If such a file exists, the starting values for the estimation are replaced by the values saved in the file.  \n",
    "biogeme.saveIterations = False "
   ]
  },
  {
   "cell_type": "code",
   "execution_count": 9,
   "id": "f3009f21",
   "metadata": {},
   "outputs": [
    {
     "name": "stdout",
     "output_type": "stream",
     "text": [
      "              Value  Rob. Std err  Rob. t-test  Rob. p-value\n",
      "ASC_Bus    3.877669      0.327207    11.850809  0.000000e+00\n",
      "ASC_Car    1.013999      0.356375     2.845311  4.436811e-03\n",
      "Beta_Cost -0.431034      0.070175    -6.142252  8.135967e-10\n",
      "Beta_TT   -0.344430      0.019443   -17.714589  0.000000e+00\n"
     ]
    }
   ],
   "source": [
    "# Estimate the parameters\n",
    "results = biogeme.estimate()\n",
    "\n",
    "# Get the results in a pandas table\n",
    "pandasResults = results.getEstimatedParameters()\n",
    "\n",
    "# Use print command with above \"pandasResults\" as argument to get succint results. \n",
    "print(pandasResults)\n",
    "\n",
    "# However, go to directory folder to access detailed results"
   ]
  },
  {
   "cell_type": "code",
   "execution_count": null,
   "id": "35963af9",
   "metadata": {},
   "outputs": [],
   "source": []
  }
 ],
 "metadata": {
  "kernelspec": {
   "display_name": "Python 3",
   "language": "python",
   "name": "python3"
  },
  "language_info": {
   "codemirror_mode": {
    "name": "ipython",
    "version": 3
   },
   "file_extension": ".py",
   "mimetype": "text/x-python",
   "name": "python",
   "nbconvert_exporter": "python",
   "pygments_lexer": "ipython3",
   "version": "3.8.8"
  }
 },
 "nbformat": 4,
 "nbformat_minor": 5
}
